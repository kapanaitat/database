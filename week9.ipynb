{
  "nbformat": 4,
  "nbformat_minor": 0,
  "metadata": {
    "colab": {
      "provenance": [],
      "authorship_tag": "ABX9TyMUSyXB8iBYGvW5vYkJS9fr",
      "include_colab_link": true
    },
    "kernelspec": {
      "name": "python3",
      "display_name": "Python 3"
    },
    "language_info": {
      "name": "python"
    }
  },
  "cells": [
    {
      "cell_type": "markdown",
      "metadata": {
        "id": "view-in-github",
        "colab_type": "text"
      },
      "source": [
        "<a href=\"https://colab.research.google.com/github/kapanaitat/database/blob/main/week9.ipynb\" target=\"_parent\"><img src=\"https://colab.research.google.com/assets/colab-badge.svg\" alt=\"Open In Colab\"/></a>"
      ]
    },
    {
      "cell_type": "code",
      "execution_count": null,
      "metadata": {
        "colab": {
          "base_uri": "https://localhost:8080/"
        },
        "id": "U1kV_RQKXJpN",
        "outputId": "588ff41e-6edd-482c-c586-a6b52388a411"
      },
      "outputs": [
        {
          "output_type": "stream",
          "name": "stdout",
          "text": [
            "sqlite\n"
          ]
        }
      ],
      "source": [
        "from sqlalchemy import create_engine\n",
        "my_conn = create_engine(\"sqlite:////content/my_db.db/\")\n",
        "print(my_conn.name)\n"
      ]
    },
    {
      "cell_type": "code",
      "source": [
        "r_set=my_conn.execute('''select name from sqlite_master where type = 'table' ''')\n",
        "for row in r_set:\n",
        "  print(row)"
      ],
      "metadata": {
        "colab": {
          "base_uri": "https://localhost:8080/"
        },
        "id": "IeYngsyjXkgG",
        "outputId": "d07e9b7c-0044-49e0-9559-6388bb96b335"
      },
      "execution_count": null,
      "outputs": [
        {
          "output_type": "stream",
          "name": "stdout",
          "text": [
            "('category',)\n",
            "('subcategory',)\n",
            "('student',)\n"
          ]
        }
      ]
    },
    {
      "cell_type": "code",
      "source": [
        "r_set=my_conn.execute('''SELECT * FROM student''');\n",
        "for row in r_set:\n",
        "  print(row)"
      ],
      "metadata": {
        "colab": {
          "base_uri": "https://localhost:8080/"
        },
        "id": "ZFRNMFgKZYv-",
        "outputId": "b04e122c-526b-4f82-d492-a8777ee0e030"
      },
      "execution_count": null,
      "outputs": [
        {
          "output_type": "stream",
          "name": "stdout",
          "text": [
            "(1, 'John Deo', 'Four', 75, 'female')\n",
            "(2, 'Max Ruin', 'Three', 85, 'male')\n",
            "(3, 'Arnold', 'Three', 55, 'male')\n",
            "(4, 'Krish Star', 'Four', 60, 'female')\n",
            "(5, 'John Mike', 'Four', 60, 'female')\n",
            "(6, 'Alex John', 'Four', 55, 'male')\n",
            "(7, 'My John Rob', 'Five', 78, 'male')\n",
            "(8, 'Asruid', 'Five', 85, 'male')\n",
            "(9, 'Tes Qry', 'Six', 78, 'male')\n",
            "(10, 'Big John', 'Four', 55, 'female')\n",
            "(11, 'Ronald', 'Six', 89, 'female')\n",
            "(12, 'Recky', 'Six', 94, 'female')\n",
            "(13, 'Kty', 'Seven', 88, 'female')\n",
            "(14, 'Bigy', 'Seven', 88, 'female')\n",
            "(15, 'Tade Row', 'Four', 88, 'male')\n",
            "(16, 'Gimmy', 'Four', 88, 'male')\n",
            "(17, 'Tumyu', 'Six', 54, 'male')\n",
            "(18, 'Honny', 'Five', 75, 'male')\n",
            "(19, 'Tinny', 'Nine', 18, 'male')\n",
            "(20, 'Jackly', 'Nine', 65, 'female')\n",
            "(21, 'Babby John', 'Four', 69, 'female')\n",
            "(22, 'Reggid', 'Seven', 55, 'female')\n",
            "(23, 'Herod', 'Eight', 79, 'male')\n",
            "(24, 'Tiddy Now', 'Seven', 78, 'male')\n",
            "(25, 'Giff Tow', 'Seven', 88, 'male')\n",
            "(26, 'Crelea', 'Seven', 79, 'male')\n",
            "(27, 'Big Nose', 'Three', 81, 'female')\n",
            "(28, 'Rojj Base', 'Seven', 86, 'female')\n",
            "(29, 'Tess Played', 'Seven', 55, 'male')\n",
            "(30, 'Reppy Red', 'Six', 79, 'female')\n",
            "(31, 'Marry Toeey', 'Four', 88, 'male')\n",
            "(32, 'Binn Rott', 'Seven', 90, 'female')\n",
            "(33, 'Kenn Rein', 'Six', 96, 'female')\n",
            "(34, 'Gain Toe', 'Seven', 69, 'male')\n",
            "(35, 'Rows Noump', 'Six', 88, 'female')\n"
          ]
        }
      ]
    },
    {
      "cell_type": "code",
      "source": [
        "r_set=my_conn.execute('''SELECT * FROM category''');\n",
        "for row in r_set:\n",
        "  print(row)"
      ],
      "metadata": {
        "colab": {
          "base_uri": "https://localhost:8080/"
        },
        "id": "g6kw8viKZco7",
        "outputId": "1f24e539-c0e6-4a63-a5b8-4ac52f6b2b26"
      },
      "execution_count": null,
      "outputs": [
        {
          "output_type": "stream",
          "name": "stdout",
          "text": [
            "(1, 'Fruits')\n",
            "(2, 'Colors')\n",
            "(3, 'Games')\n",
            "(4, 'Vehicles')\n"
          ]
        }
      ]
    },
    {
      "cell_type": "code",
      "source": [
        "r_set=my_conn.execute('''SELECT * FROM subcategory''');\n",
        "for row in r_set:\n",
        "  print(row)"
      ],
      "metadata": {
        "colab": {
          "base_uri": "https://localhost:8080/"
        },
        "id": "8FRNsi_VZgcm",
        "outputId": "13dcabab-4cbf-4f66-dca8-49aab46527f5"
      },
      "execution_count": null,
      "outputs": [
        {
          "output_type": "stream",
          "name": "stdout",
          "text": [
            "(1, 'Mango')\n",
            "(1, 'Banana')\n",
            "(1, 'Orange')\n",
            "(1, 'Apple')\n",
            "(2, 'Red')\n",
            "(2, 'Blue')\n",
            "(2, 'Green')\n",
            "(2, 'Yellow')\n",
            "(3, 'Cricket')\n",
            "(3, 'Football')\n",
            "(3, 'Baseball')\n",
            "(3, 'Tennis')\n",
            "(4, 'Cars')\n",
            "(4, 'Trucks')\n",
            "(4, 'Bikes')\n",
            "(4, 'Train')\n"
          ]
        }
      ]
    },
    {
      "cell_type": "code",
      "source": [
        "# display all records of particular class only\n",
        "q=\"SELECT id, name, class, mark, sex FROM student WHERE class='Four'\"\n",
        "my_cursor=my_conn.execute(q)\n",
        "for row in my_cursor:\n",
        "  print(row)"
      ],
      "metadata": {
        "colab": {
          "base_uri": "https://localhost:8080/"
        },
        "id": "3Jx4XnooZibm",
        "outputId": "7b90867f-cb4e-4ecd-f742-a6b49f26827d"
      },
      "execution_count": null,
      "outputs": [
        {
          "output_type": "stream",
          "name": "stdout",
          "text": [
            "(1, 'John Deo', 'Four', 75, 'female')\n",
            "(4, 'Krish Star', 'Four', 60, 'female')\n",
            "(5, 'John Mike', 'Four', 60, 'female')\n",
            "(6, 'Alex John', 'Four', 55, 'male')\n",
            "(10, 'Big John', 'Four', 55, 'female')\n",
            "(15, 'Tade Row', 'Four', 88, 'male')\n",
            "(16, 'Gimmy', 'Four', 88, 'male')\n",
            "(21, 'Babby John', 'Four', 69, 'female')\n",
            "(31, 'Marry Toeey', 'Four', 88, 'male')\n"
          ]
        }
      ]
    },
    {
      "cell_type": "code",
      "source": [
        "my_cursor = my_conn.execute(\"select id, name, class, mark, sex from student where id = 8\")\n",
        "data_row = my_cursor.fetchone()\n",
        "\n",
        "print(data_row)"
      ],
      "metadata": {
        "colab": {
          "base_uri": "https://localhost:8080/"
        },
        "id": "pli5QU9cZnfD",
        "outputId": "d7ccb570-5666-4d6e-e13b-d7971448ea68"
      },
      "execution_count": null,
      "outputs": [
        {
          "output_type": "stream",
          "name": "stdout",
          "text": [
            "(8, 'Asruid', 'Five', 85, 'male')\n"
          ]
        }
      ]
    },
    {
      "cell_type": "code",
      "source": [
        "# select 10 records only\n",
        "q=\"SELECT id, name, class, mark, sex FROM student limit 0,10\"\n",
        "my_cursor=my_conn.execute(q)\n",
        "data_row=my_cursor.fetchall()\n",
        "print(type(data_row))\n",
        "print(\"No of records : {}\".format(len(data_row)))\n",
        "for row in data_row:\n",
        "  print(row)"
      ],
      "metadata": {
        "colab": {
          "base_uri": "https://localhost:8080/"
        },
        "id": "noX9bjVEZ0mX",
        "outputId": "6d4fc5cf-4b8b-4187-e69a-1f0ff71a545c"
      },
      "execution_count": null,
      "outputs": [
        {
          "output_type": "stream",
          "name": "stdout",
          "text": [
            "<class 'list'>\n",
            "No of records : 10\n",
            "(1, 'John Deo', 'Four', 75, 'female')\n",
            "(2, 'Max Ruin', 'Three', 85, 'male')\n",
            "(3, 'Arnold', 'Three', 55, 'male')\n",
            "(4, 'Krish Star', 'Four', 60, 'female')\n",
            "(5, 'John Mike', 'Four', 60, 'female')\n",
            "(6, 'Alex John', 'Four', 55, 'male')\n",
            "(7, 'My John Rob', 'Five', 78, 'male')\n",
            "(8, 'Asruid', 'Five', 85, 'male')\n",
            "(9, 'Tes Qry', 'Six', 78, 'male')\n",
            "(10, 'Big John', 'Four', 55, 'female')\n"
          ]
        },
        {
          "output_type": "stream",
          "name": "stderr",
          "text": [
            "ERROR:sqlalchemy.pool.impl.NullPool:Exception during reset or similar\n",
            "Traceback (most recent call last):\n",
            "  File \"/usr/local/lib/python3.7/dist-packages/sqlalchemy/pool/base.py\", line 753, in _finalize_fairy\n",
            "    fairy._reset(pool)\n",
            "  File \"/usr/local/lib/python3.7/dist-packages/sqlalchemy/pool/base.py\", line 1004, in _reset\n",
            "    pool._dialect.do_rollback(self)\n",
            "  File \"/usr/local/lib/python3.7/dist-packages/sqlalchemy/engine/default.py\", line 683, in do_rollback\n",
            "    dbapi_connection.rollback()\n",
            "sqlite3.ProgrammingError: SQLite objects created in a thread can only be used in that same thread. The object was created in thread id 139780446578560 and this is thread id 139780015654656.\n",
            "ERROR:sqlalchemy.pool.impl.NullPool:Exception closing connection <sqlite3.Connection object at 0x7f2110669e30>\n",
            "Traceback (most recent call last):\n",
            "  File \"/usr/local/lib/python3.7/dist-packages/sqlalchemy/pool/base.py\", line 753, in _finalize_fairy\n",
            "    fairy._reset(pool)\n",
            "  File \"/usr/local/lib/python3.7/dist-packages/sqlalchemy/pool/base.py\", line 1004, in _reset\n",
            "    pool._dialect.do_rollback(self)\n",
            "  File \"/usr/local/lib/python3.7/dist-packages/sqlalchemy/engine/default.py\", line 683, in do_rollback\n",
            "    dbapi_connection.rollback()\n",
            "sqlite3.ProgrammingError: SQLite objects created in a thread can only be used in that same thread. The object was created in thread id 139780446578560 and this is thread id 139780015654656.\n",
            "\n",
            "During handling of the above exception, another exception occurred:\n",
            "\n",
            "Traceback (most recent call last):\n",
            "  File \"/usr/local/lib/python3.7/dist-packages/sqlalchemy/pool/base.py\", line 255, in _close_connection\n",
            "    self._dialect.do_terminate(connection)\n",
            "  File \"/usr/local/lib/python3.7/dist-packages/sqlalchemy/engine/default.py\", line 689, in do_terminate\n",
            "    self.do_close(dbapi_connection)\n",
            "  File \"/usr/local/lib/python3.7/dist-packages/sqlalchemy/engine/default.py\", line 692, in do_close\n",
            "    dbapi_connection.close()\n",
            "sqlite3.ProgrammingError: SQLite objects created in a thread can only be used in that same thread. The object was created in thread id 139780446578560 and this is thread id 139780015654656.\n"
          ]
        }
      ]
    },
    {
      "cell_type": "code",
      "source": [
        "# delete sample table student\n",
        "from sqlalchemy.exc import SQLAlchemyError\n",
        "try:\n",
        "  my_conn.execute('''DROP table student;''')\n",
        "  print(\"student table deleted\")\n",
        "except SQLAlchemyError as e:\n",
        "  error = str(e._dict_['orig'])\n",
        "  print(error)\n",
        "  #print(e)"
      ],
      "metadata": {
        "colab": {
          "base_uri": "https://localhost:8080/"
        },
        "id": "V4akYPvRblml",
        "outputId": "36300d08-14ab-4b58-8f11-05c89d1eba46"
      },
      "execution_count": null,
      "outputs": [
        {
          "output_type": "stream",
          "name": "stdout",
          "text": [
            "student table deleted\n"
          ]
        }
      ]
    },
    {
      "cell_type": "code",
      "source": [
        "# creating student table\n",
        "from sqlalchemy.exc import SQLAlchemyError\n",
        "try:\n",
        "  my_conn.execute('''\n",
        "    CREATE TABLE IF NOT EXISTS student(id integer primary key,\n",
        "                                       name text,\n",
        "                                       class text,\n",
        "                                       mark integer,\n",
        "                                       sex text\n",
        "                                       );''')\n",
        "  \n",
        "  print(\"Student Table created successfully\")\n",
        "except SQLAlchemyError as e:\n",
        "  error = str(e._dict_['orig'])\n",
        "  print(error)"
      ],
      "metadata": {
        "colab": {
          "base_uri": "https://localhost:8080/"
        },
        "id": "IZvS0Vfvbohm",
        "outputId": "db90d855-423a-4462-e1a6-6a8926e7adf7"
      },
      "execution_count": null,
      "outputs": [
        {
          "output_type": "stream",
          "name": "stdout",
          "text": [
            "Student Table created successfully\n"
          ]
        }
      ]
    },
    {
      "cell_type": "code",
      "source": [
        "# add records to student table\n",
        "r_set=my_conn.execute('''INSERT INTO `student`\n",
        "(`id`,`name`,`class`,`mark`,`sex`) VALUES\n",
        "(1, 'John Deo', 'Four', 75, 'female'),\n",
        "(2, 'Max Ruin', 'Three', 85, 'male'),\n",
        "(3, 'Arnold', 'Three', 55, 'male'),\n",
        "(4, 'Krish Star', 'Four', 60, 'female'),\n",
        "(5, 'John Mike', 'Four', 60, 'female'),\n",
        "(6, 'Alex John', 'Four', 55, 'male'),\n",
        "(7, 'My John Rob', 'Five', 78, 'male'),\n",
        "(8, 'Asruid', 'Five', 85, 'male'),\n",
        "(9, 'Tes Qry', 'Six', 78, 'male'),\n",
        "(10, 'Big John', 'Four', 55, 'female'),\n",
        "(11, 'Ronald', 'Six', 89, 'female'),\n",
        "(27, 'Big Nose', 'Three', 81, 'female'),\n",
        "(28, 'Rojj Base', 'Seven', 86, 'female'),\n",
        "(29, 'Tess Played', 'Seven', 55, 'male'),\n",
        "(30, 'Reppy Red', 'Six', 79, 'female'),\n",
        "(31, 'Marry Toeey', 'Four', 88, 'male'),\n",
        "(32, 'Binn Rott', 'Seven', 90, 'female'),\n",
        "(33, 'Kenn Rein', 'Six', 96, 'female'),\n",
        "(34, 'Gain Toe', 'Seven', 69, 'male'),\n",
        "(35, 'Rows Noump', 'Six', 88, 'female');''')"
      ],
      "metadata": {
        "id": "vb8OA0J4bsdj"
      },
      "execution_count": null,
      "outputs": []
    },
    {
      "cell_type": "code",
      "source": [
        "my_conn = create_engine(\"sqlite:///my_db2.db\")\n",
        "conn = my_conn.connect()\n",
        "\n",
        "!ls"
      ],
      "metadata": {
        "colab": {
          "base_uri": "https://localhost:8080/"
        },
        "id": "XuuS7G3obyFD",
        "outputId": "efc9b7bd-56da-426d-a783-cbd73ed87dcf"
      },
      "execution_count": null,
      "outputs": [
        {
          "output_type": "stream",
          "name": "stdout",
          "text": [
            "my_db2.db  my_db.db  sample_data  student_insert.sql  student_tables.sql\n"
          ]
        }
      ]
    },
    {
      "cell_type": "code",
      "source": [
        "from sqlalchemy import create_engine\n",
        "my_conn = create_engine(\"sqlite:////content/my_db.db/\")\n",
        "\n",
        "# Show the list of tables\n",
        "r_set = my_conn.execute('''select name from sqlite_master where type = 'table' ''')\n",
        "for row in r_set:\n",
        "    print(row)\n"
      ],
      "metadata": {
        "colab": {
          "base_uri": "https://localhost:8080/"
        },
        "id": "RS5l9zoob7Bz",
        "outputId": "588da411-51a9-493a-fdb9-54aab2bbc6d5"
      },
      "execution_count": null,
      "outputs": [
        {
          "output_type": "stream",
          "name": "stdout",
          "text": [
            "('category',)\n",
            "('subcategory',)\n",
            "('student',)\n"
          ]
        }
      ]
    },
    {
      "cell_type": "code",
      "source": [],
      "metadata": {
        "id": "HAwqQkOAcGvs"
      },
      "execution_count": null,
      "outputs": []
    },
    {
      "cell_type": "code",
      "source": [
        "# delete sample table student\n",
        "from sqlalchemy.exc import SQLAlchemyError\n",
        "try:\n",
        "  my_conn.execute('''DROP table student;''')\n",
        "  print(\"student table deleted\")\n",
        "except SQLAlchemyError as e:\n",
        "  error = str(e._dict_['orig'])\n",
        "  print(error)\n",
        "  #print(e)"
      ],
      "metadata": {
        "colab": {
          "base_uri": "https://localhost:8080/"
        },
        "id": "tVyEwpQ5cFI2",
        "outputId": "7c619d16-0925-4aad-d366-2868b4498bbe"
      },
      "execution_count": null,
      "outputs": [
        {
          "output_type": "stream",
          "name": "stdout",
          "text": [
            "student table deleted\n"
          ]
        }
      ]
    },
    {
      "cell_type": "code",
      "source": [
        "from sqlalchemy import create_engine\n",
        "my_conn = create_engine(\"sqlite:////content/my_db.db/\")\n",
        "\n",
        "# Show the list of tables\n",
        "r_set = my_conn.execute('''select name from sqlite_master where type = 'table' ''')\n",
        "for row in r_set:\n",
        "    print(row)\n"
      ],
      "metadata": {
        "colab": {
          "base_uri": "https://localhost:8080/"
        },
        "id": "4G5ILBJlcIIM",
        "outputId": "0654c15f-453d-4c79-cb19-8beff67a6ee8"
      },
      "execution_count": null,
      "outputs": [
        {
          "output_type": "stream",
          "name": "stdout",
          "text": [
            "('category',)\n",
            "('subcategory',)\n"
          ]
        }
      ]
    },
    {
      "cell_type": "code",
      "source": [
        "\n",
        "# Open file and run script\n",
        "with open(\"student_tables.sql\", \"r\") as file:\n",
        "    query = file.read()\n",
        "    my_conn.execute(query)\n",
        "\n",
        "# Show the list of tables\n",
        "r_set = my_conn.execute(\"SELECT name FROM sqlite_master WHERE type='table';\")\n",
        "for row in r_set:\n",
        "    print(row)\n",
        "\n"
      ],
      "metadata": {
        "colab": {
          "base_uri": "https://localhost:8080/"
        },
        "id": "-XtYrDeHcJT4",
        "outputId": "84fef5e5-6405-418c-a350-c4a0e00d3f4a"
      },
      "execution_count": null,
      "outputs": [
        {
          "output_type": "stream",
          "name": "stdout",
          "text": [
            "('category',)\n",
            "('subcategory',)\n",
            "('student',)\n"
          ]
        }
      ]
    },
    {
      "cell_type": "code",
      "source": [
        "with open(\"student_insert.sql\", \"r\") as file:\n",
        "    query = file.read()\n",
        "    my_conn.execute(query)\n",
        "\n",
        "r_set=my_conn.execute('''SELECT * FROM student''');\n",
        "for row in r_set:\n",
        "  print(row)"
      ],
      "metadata": {
        "colab": {
          "base_uri": "https://localhost:8080/"
        },
        "id": "4dhRjvj9cOOi",
        "outputId": "59c8dfd7-c7fa-44f5-d00f-8583d69cb57b"
      },
      "execution_count": null,
      "outputs": [
        {
          "output_type": "stream",
          "name": "stdout",
          "text": [
            "(1, 'John Deo', 'Four', 75, 'female')\n",
            "(2, 'Max Ruin', 'Three', 85, 'male')\n",
            "(3, 'Arnold', 'Three', 55, 'male')\n",
            "(4, 'Krish Star', 'Four', 60, 'female')\n",
            "(5, 'John Mike', 'Four', 60, 'female')\n",
            "(6, 'Alex John', 'Four', 55, 'male')\n",
            "(7, 'My John Rob', 'Five', 78, 'male')\n",
            "(8, 'Asruid', 'Five', 85, 'male')\n",
            "(9, 'Tes Qry', 'Six', 78, 'male')\n",
            "(10, 'Big John', 'Four', 55, 'female')\n",
            "(11, 'Ronald', 'Six', 89, 'female')\n",
            "(27, 'Big Nose', 'Three', 81, 'female')\n",
            "(28, 'Rojj Base', 'Seven', 86, 'female')\n",
            "(29, 'Tess Played', 'Seven', 55, 'male')\n",
            "(30, 'Reppy Red', 'Six', 79, 'female')\n",
            "(31, 'Marry Toeey', 'Four', 88, 'male')\n",
            "(32, 'Binn Rott', 'Seven', 90, 'female')\n",
            "(33, 'Kenn Rein', 'Six', 96, 'female')\n",
            "(34, 'Gain Toe', 'Seven', 69, 'male')\n",
            "(35, 'Rows Noump', 'Six', 88, 'female')\n"
          ]
        }
      ]
    },
    {
      "cell_type": "code",
      "source": [
        "from sqlalchemy.exc import SQLAlchemyError\n",
        "q=\"UPDATE student SET mark=mark+1\"\n",
        "try:\n",
        "  r_set=my_conn.execute(q)\n",
        "except SQLAlchemyError as e:\n",
        "  error=str(e.__dict__['orig'])\n",
        "  print(error)\n",
        "else:\n",
        "  print(\"No of records updated : \",r_set.rowcount)"
      ],
      "metadata": {
        "colab": {
          "base_uri": "https://localhost:8080/"
        },
        "id": "mj9NQTyucQqT",
        "outputId": "c90d1370-1658-4922-a447-35d76f95b381"
      },
      "execution_count": null,
      "outputs": [
        {
          "output_type": "stream",
          "name": "stdout",
          "text": [
            "No of records updated :  20\n"
          ]
        }
      ]
    },
    {
      "cell_type": "code",
      "source": [
        "r_set=my_conn.execute('''SELECT * FROM student''');\n",
        "for row in r_set:\n",
        "  print(row)"
      ],
      "metadata": {
        "colab": {
          "base_uri": "https://localhost:8080/"
        },
        "id": "-14QzIAdcUaT",
        "outputId": "5f598cd7-a917-40e8-e4d5-4f6e5f514ac1"
      },
      "execution_count": null,
      "outputs": [
        {
          "output_type": "stream",
          "name": "stdout",
          "text": [
            "(1, 'John Deo', 'Four', 76, 'female')\n",
            "(2, 'Max Ruin', 'Three', 86, 'male')\n",
            "(3, 'Arnold', 'Three', 56, 'male')\n",
            "(4, 'Krish Star', 'Four', 61, 'female')\n",
            "(5, 'John Mike', 'Four', 61, 'female')\n",
            "(6, 'Alex John', 'Four', 56, 'male')\n",
            "(7, 'My John Rob', 'Five', 79, 'male')\n",
            "(8, 'Asruid', 'Five', 86, 'male')\n",
            "(9, 'Tes Qry', 'Six', 79, 'male')\n",
            "(10, 'Big John', 'Four', 56, 'female')\n",
            "(11, 'Ronald', 'Six', 90, 'female')\n",
            "(27, 'Big Nose', 'Three', 82, 'female')\n",
            "(28, 'Rojj Base', 'Seven', 87, 'female')\n",
            "(29, 'Tess Played', 'Seven', 56, 'male')\n",
            "(30, 'Reppy Red', 'Six', 80, 'female')\n",
            "(31, 'Marry Toeey', 'Four', 89, 'male')\n",
            "(32, 'Binn Rott', 'Seven', 91, 'female')\n",
            "(33, 'Kenn Rein', 'Six', 97, 'female')\n",
            "(34, 'Gain Toe', 'Seven', 70, 'male')\n",
            "(35, 'Rows Noump', 'Six', 89, 'female')\n"
          ]
        }
      ]
    },
    {
      "cell_type": "code",
      "source": [
        "from sqlalchemy.exc import SQLAlchemyError\n",
        "q=\"UPDATE student SET mark=mark+1 WHERE id=7\"\n",
        "try:\n",
        "  r_set=my_conn.execute(q)\n",
        "except SQLAlchemyError as e:\n",
        "  error=str(e.__dict__['orig'])\n",
        "  print(error)\n",
        "else:\n",
        "  print(\"No of records updated : \",r_set.rowcount)"
      ],
      "metadata": {
        "colab": {
          "base_uri": "https://localhost:8080/"
        },
        "id": "TjfLJomecXIn",
        "outputId": "a30802d9-f0e1-4574-f77a-443247516a27"
      },
      "execution_count": null,
      "outputs": [
        {
          "output_type": "stream",
          "name": "stdout",
          "text": [
            "No of records updated :  1\n"
          ]
        }
      ]
    },
    {
      "cell_type": "code",
      "source": [
        "r_set=my_conn.execute('''SELECT * FROM student''');\n",
        "for row in r_set:\n",
        "  print(row)"
      ],
      "metadata": {
        "colab": {
          "base_uri": "https://localhost:8080/"
        },
        "id": "iYVmxq9Ycc-m",
        "outputId": "f6476e84-0e08-401c-add5-ecc1f1702dbe"
      },
      "execution_count": null,
      "outputs": [
        {
          "output_type": "stream",
          "name": "stdout",
          "text": [
            "(1, 'John Deo', 'Four', 76, 'female')\n",
            "(2, 'Max Ruin', 'Three', 86, 'male')\n",
            "(3, 'Arnold', 'Three', 56, 'male')\n",
            "(4, 'Krish Star', 'Four', 61, 'female')\n",
            "(5, 'John Mike', 'Four', 61, 'female')\n",
            "(6, 'Alex John', 'Four', 56, 'male')\n",
            "(7, 'My John Rob', 'Five', 80, 'male')\n",
            "(8, 'Asruid', 'Five', 86, 'male')\n",
            "(9, 'Tes Qry', 'Six', 79, 'male')\n",
            "(10, 'Big John', 'Four', 56, 'female')\n",
            "(11, 'Ronald', 'Six', 90, 'female')\n",
            "(27, 'Big Nose', 'Three', 82, 'female')\n",
            "(28, 'Rojj Base', 'Seven', 87, 'female')\n",
            "(29, 'Tess Played', 'Seven', 56, 'male')\n",
            "(30, 'Reppy Red', 'Six', 80, 'female')\n",
            "(31, 'Marry Toeey', 'Four', 89, 'male')\n",
            "(32, 'Binn Rott', 'Seven', 91, 'female')\n",
            "(33, 'Kenn Rein', 'Six', 97, 'female')\n",
            "(34, 'Gain Toe', 'Seven', 70, 'male')\n",
            "(35, 'Rows Noump', 'Six', 89, 'female')\n"
          ]
        }
      ]
    },
    {
      "cell_type": "code",
      "source": [
        "from sqlalchemy.exc import SQLAlchemyError\n",
        "q=\"UPDATE student SET mark=mark+1 WHERE class='Four'\"\n",
        "try:\n",
        "  r_set=my_conn.execute(q)\n",
        "except SQLAlchemyError as e:\n",
        "  error=str(e.__dict__['orig'])\n",
        "  print(error)\n",
        "else:\n",
        "  print(\"No of records updated : \",r_set.rowcount)"
      ],
      "metadata": {
        "colab": {
          "base_uri": "https://localhost:8080/"
        },
        "id": "O3_LaIx5chiL",
        "outputId": "973a4398-1aad-44ac-bd65-2453640857cc"
      },
      "execution_count": null,
      "outputs": [
        {
          "output_type": "stream",
          "name": "stdout",
          "text": [
            "No of records updated :  6\n"
          ]
        }
      ]
    },
    {
      "cell_type": "code",
      "source": [
        "r_set=my_conn.execute('''SELECT * FROM student''');\n",
        "for row in r_set:\n",
        "  print(row)"
      ],
      "metadata": {
        "colab": {
          "base_uri": "https://localhost:8080/"
        },
        "id": "PP7CuZLAchj6",
        "outputId": "6bcac444-242c-4cd4-bd45-a24c5e290efe"
      },
      "execution_count": null,
      "outputs": [
        {
          "output_type": "stream",
          "name": "stdout",
          "text": [
            "(1, 'John Deo', 'Four', 77, 'female')\n",
            "(2, 'Max Ruin', 'Three', 86, 'male')\n",
            "(3, 'Arnold', 'Three', 56, 'male')\n",
            "(4, 'Krish Star', 'Four', 62, 'female')\n",
            "(5, 'John Mike', 'Four', 62, 'female')\n",
            "(6, 'Alex John', 'Four', 57, 'male')\n",
            "(7, 'My John Rob', 'Five', 80, 'male')\n",
            "(8, 'Asruid', 'Five', 86, 'male')\n",
            "(9, 'Tes Qry', 'Six', 79, 'male')\n",
            "(10, 'Big John', 'Four', 57, 'female')\n",
            "(11, 'Ronald', 'Six', 90, 'female')\n",
            "(27, 'Big Nose', 'Three', 82, 'female')\n",
            "(28, 'Rojj Base', 'Seven', 87, 'female')\n",
            "(29, 'Tess Played', 'Seven', 56, 'male')\n",
            "(30, 'Reppy Red', 'Six', 80, 'female')\n",
            "(31, 'Marry Toeey', 'Four', 90, 'male')\n",
            "(32, 'Binn Rott', 'Seven', 91, 'female')\n",
            "(33, 'Kenn Rein', 'Six', 97, 'female')\n",
            "(34, 'Gain Toe', 'Seven', 70, 'male')\n",
            "(35, 'Rows Noump', 'Six', 89, 'female')\n"
          ]
        }
      ]
    },
    {
      "cell_type": "code",
      "source": [
        "from sqlalchemy.exc import SQLAlchemyError\n",
        "q=\"UPDATE student SET class='Four' WHERE class='Three'\"\n",
        "try:\n",
        "  r_set=my_conn.execute(q)\n",
        "except SQLAlchemyError as e:\n",
        "  error=str(e.__dict__['orig'])\n",
        "  print(error)\n",
        "else:\n",
        "  print(\"No of records updated : \",r_set.rowcount)"
      ],
      "metadata": {
        "colab": {
          "base_uri": "https://localhost:8080/"
        },
        "id": "rtCKMwdPgSvl",
        "outputId": "216b9854-4ec0-48f0-f362-49e1d870b52a"
      },
      "execution_count": null,
      "outputs": [
        {
          "output_type": "stream",
          "name": "stdout",
          "text": [
            "No of records updated :  3\n"
          ]
        }
      ]
    },
    {
      "cell_type": "code",
      "source": [
        "r_set=my_conn.execute('''SELECT * FROM student''');\n",
        "for row in r_set:\n",
        "  print(row)"
      ],
      "metadata": {
        "colab": {
          "base_uri": "https://localhost:8080/"
        },
        "id": "IYmVa0PhgZCl",
        "outputId": "bb6f22fd-e3d3-4a02-e975-f40fe3e96cb0"
      },
      "execution_count": null,
      "outputs": [
        {
          "output_type": "stream",
          "name": "stdout",
          "text": [
            "(1, 'John Deo', 'Four', 77, 'female')\n",
            "(2, 'Max Ruin', 'Four', 86, 'male')\n",
            "(3, 'Arnold', 'Four', 56, 'male')\n",
            "(4, 'Krish Star', 'Four', 62, 'female')\n",
            "(5, 'John Mike', 'Four', 62, 'female')\n",
            "(6, 'Alex John', 'Four', 57, 'male')\n",
            "(7, 'My John Rob', 'Five', 80, 'male')\n",
            "(8, 'Asruid', 'Five', 86, 'male')\n",
            "(9, 'Tes Qry', 'Six', 79, 'male')\n",
            "(10, 'Big John', 'Four', 57, 'female')\n",
            "(11, 'Ronald', 'Six', 90, 'female')\n",
            "(27, 'Big Nose', 'Four', 82, 'female')\n",
            "(28, 'Rojj Base', 'Seven', 87, 'female')\n",
            "(29, 'Tess Played', 'Seven', 56, 'male')\n",
            "(30, 'Reppy Red', 'Six', 80, 'female')\n",
            "(31, 'Marry Toeey', 'Four', 90, 'male')\n",
            "(32, 'Binn Rott', 'Seven', 91, 'female')\n",
            "(33, 'Kenn Rein', 'Six', 97, 'female')\n",
            "(34, 'Gain Toe', 'Seven', 70, 'male')\n",
            "(35, 'Rows Noump', 'Six', 89, 'female')\n"
          ]
        }
      ]
    },
    {
      "cell_type": "code",
      "source": [
        "from sqlalchemy.exc import SQLAlchemyError\n",
        "id=input(\"Enter student id : \")\n",
        "my_data=(id,)\n",
        "q=\"UPDATE student SET mark=mark+5 WHERE id=?\"\n",
        "try:\n",
        "  r_set=my_conn.execute(q,my_data)\n",
        "except SQLAlchemyError as e:\n",
        "  error=str(e.__dict__['orig'])\n",
        "  print(error)\n",
        "else:\n",
        "  print(\"No of records updated : \",r_set.rowcount)"
      ],
      "metadata": {
        "colab": {
          "base_uri": "https://localhost:8080/"
        },
        "id": "8l4H93xIgbnZ",
        "outputId": "80ba268b-caab-4247-e84a-0b06cd8fc4f6"
      },
      "execution_count": null,
      "outputs": [
        {
          "output_type": "stream",
          "name": "stdout",
          "text": [
            "Enter student id : 11\n",
            "No of records updated :  1\n"
          ]
        }
      ]
    },
    {
      "cell_type": "code",
      "source": [
        "from sqlalchemy.exc import SQLAlchemyError\n",
        "my_data=('Six','Seven')\n",
        "q=\"UPDATE student SET class=? WHERE class=?\"\n",
        "try:\n",
        "  r_set=my_conn.execute(q,my_data)\n",
        "except SQLAlchemyError as e:\n",
        "  error=str(e.__dict__['orig'])\n",
        "  print(error)\n",
        "else:\n",
        "  print(\"No of records updated : \",r_set.rowcount)"
      ],
      "metadata": {
        "colab": {
          "base_uri": "https://localhost:8080/"
        },
        "id": "boVIThITggbN",
        "outputId": "d59768d7-d503-40ec-9619-4718d53a4cfa"
      },
      "execution_count": null,
      "outputs": [
        {
          "output_type": "stream",
          "name": "stdout",
          "text": [
            "No of records updated :  4\n"
          ]
        }
      ]
    },
    {
      "cell_type": "code",
      "source": [
        "r_set=my_conn.execute('''SELECT * FROM student''');\n",
        "for row in r_set:\n",
        "  print(row)"
      ],
      "metadata": {
        "colab": {
          "base_uri": "https://localhost:8080/"
        },
        "id": "j2YlPGWbgl-E",
        "outputId": "32e5aa2c-e12a-49d2-d538-936653f45ef7"
      },
      "execution_count": null,
      "outputs": [
        {
          "output_type": "stream",
          "name": "stdout",
          "text": [
            "(1, 'John Deo', 'Four', 77, 'female')\n",
            "(2, 'Max Ruin', 'Four', 86, 'male')\n",
            "(3, 'Arnold', 'Four', 56, 'male')\n",
            "(4, 'Krish Star', 'Four', 62, 'female')\n",
            "(5, 'John Mike', 'Four', 62, 'female')\n",
            "(6, 'Alex John', 'Four', 57, 'male')\n",
            "(7, 'My John Rob', 'Five', 80, 'male')\n",
            "(8, 'Asruid', 'Five', 86, 'male')\n",
            "(9, 'Tes Qry', 'Six', 79, 'male')\n",
            "(10, 'Big John', 'Four', 57, 'female')\n",
            "(11, 'Ronald', 'Six', 95, 'female')\n",
            "(27, 'Big Nose', 'Four', 82, 'female')\n",
            "(28, 'Rojj Base', 'Six', 87, 'female')\n",
            "(29, 'Tess Played', 'Six', 56, 'male')\n",
            "(30, 'Reppy Red', 'Six', 80, 'female')\n",
            "(31, 'Marry Toeey', 'Four', 90, 'male')\n",
            "(32, 'Binn Rott', 'Six', 91, 'female')\n",
            "(33, 'Kenn Rein', 'Six', 97, 'female')\n",
            "(34, 'Gain Toe', 'Six', 70, 'male')\n",
            "(35, 'Rows Noump', 'Six', 89, 'female')\n"
          ]
        }
      ]
    },
    {
      "cell_type": "code",
      "source": [
        "from sqlalchemy.exc import SQLAlchemyError\n",
        "q=\"SELECT DISTINCT(class)  FROM student\"\n",
        "try:\n",
        "  r_set=my_conn.execute(q)\n",
        "  data=r_set.fetchall()\n",
        "  for row in data:\n",
        "    print(row[0])\n",
        "except SQLAlchemyError as e:\n",
        "  error=str(e.__dict__['orig'])\n",
        "  print(error)\n",
        "else:\n",
        "  print(\"No of records displayed : \",len(data))"
      ],
      "metadata": {
        "colab": {
          "base_uri": "https://localhost:8080/"
        },
        "id": "zjGvTnPngoFk",
        "outputId": "87da777a-5ecb-46fe-ed8c-d99717a7b6f6"
      },
      "execution_count": null,
      "outputs": [
        {
          "output_type": "stream",
          "name": "stdout",
          "text": [
            "Four\n",
            "Five\n",
            "Six\n",
            "No of records displayed :  3\n"
          ]
        }
      ]
    },
    {
      "cell_type": "code",
      "source": [
        "from sqlalchemy.exc import SQLAlchemyError\n",
        "q=\"SELECT DISTINCT(class)  FROM student WHERE mark>=80\"\n",
        "try:\n",
        "  r_set=my_conn.execute(q)\n",
        "  data=r_set.fetchall()\n",
        "  for row in data:\n",
        "    print(row[0])\n",
        "except SQLAlchemyError as e:\n",
        "  error=str(e.__dict__['orig'])\n",
        "  print(error)\n",
        "else:\n",
        "  print(\"No of records displayed : \",len(data))"
      ],
      "metadata": {
        "colab": {
          "base_uri": "https://localhost:8080/"
        },
        "id": "DyzVaIPVgwf2",
        "outputId": "c5be8aa3-f914-4f68-e88e-f115657967cb"
      },
      "execution_count": null,
      "outputs": [
        {
          "output_type": "stream",
          "name": "stdout",
          "text": [
            "Four\n",
            "Five\n",
            "Six\n",
            "No of records displayed :  3\n"
          ]
        }
      ]
    },
    {
      "cell_type": "code",
      "source": [
        "from sqlalchemy.exc import SQLAlchemyError\n",
        "q=\"SELECT DISTINCT(class)  FROM student order by class\"\n",
        "try:\n",
        "  r_set=my_conn.execute(q)\n",
        "  data=r_set.fetchall()\n",
        "  for row in data:\n",
        "    print(row[0])\n",
        "except SQLAlchemyError as e:\n",
        "  error=str(e.__dict__['orig'])\n",
        "  print(error)\n",
        "else:\n",
        "  print(\"No of records displayed : \",len(data))"
      ],
      "metadata": {
        "colab": {
          "base_uri": "https://localhost:8080/"
        },
        "id": "2QbZ39Smg09H",
        "outputId": "db11b702-5dc0-43b5-f983-149c47d2bd65"
      },
      "execution_count": null,
      "outputs": [
        {
          "output_type": "stream",
          "name": "stdout",
          "text": [
            "Five\n",
            "Four\n",
            "Six\n",
            "No of records displayed :  3\n"
          ]
        }
      ]
    },
    {
      "cell_type": "code",
      "source": [
        "from sqlalchemy.exc import SQLAlchemyError\n",
        "q=\"SELECT DISTINCT class,sex  FROM student order by class\"\n",
        "try:\n",
        "  r_set=my_conn.execute(q)\n",
        "  data=r_set.fetchall()\n",
        "  for row in data:\n",
        "    print(row[0],row[1])\n",
        "except SQLAlchemyError as e:\n",
        "  error=str(e.__dict__['orig'])\n",
        "  print(error)\n",
        "else:\n",
        "  print(\"No of records displayed : \",len(data))"
      ],
      "metadata": {
        "colab": {
          "base_uri": "https://localhost:8080/"
        },
        "id": "81XcJ7pGg4La",
        "outputId": "0b4d52aa-cb94-4f7b-fe85-9a2d3b4dd4d3"
      },
      "execution_count": null,
      "outputs": [
        {
          "output_type": "stream",
          "name": "stdout",
          "text": [
            "Five male\n",
            "Four female\n",
            "Four male\n",
            "Six male\n",
            "Six female\n",
            "No of records displayed :  5\n"
          ]
        }
      ]
    },
    {
      "cell_type": "code",
      "source": [
        "from sqlalchemy.exc import SQLAlchemyError\n",
        "q=\"DELETE FROM student WHERE id=5\"\n",
        "try:\n",
        "  r_set=my_conn.execute(q)\n",
        "except SQLAlchemyError as e:\n",
        "  error=str(e.__dict__['orig'])\n",
        "  print(error)\n",
        "else:\n",
        "  print(\"No of records deleted : \",r_set.rowcount)"
      ],
      "metadata": {
        "colab": {
          "base_uri": "https://localhost:8080/"
        },
        "id": "jEIY_jPlhFZv",
        "outputId": "b446e13e-8b7a-4cd1-ba5b-88229690a2b0"
      },
      "execution_count": null,
      "outputs": [
        {
          "output_type": "stream",
          "name": "stdout",
          "text": [
            "No of records deleted :  1\n"
          ]
        }
      ]
    },
    {
      "cell_type": "code",
      "source": [
        "from sqlalchemy.exc import SQLAlchemyError\n",
        "q=\"DELETE FROM student WHERE class='Four'\"\n",
        "try:\n",
        "  r_set=my_conn.execute(q)\n",
        "except SQLAlchemyError as e:\n",
        "  error=str(e.__dict__['orig'])\n",
        "  print(error)\n",
        "else:\n",
        "  print(\"No of records deleted : \",r_set.rowcount)"
      ],
      "metadata": {
        "colab": {
          "base_uri": "https://localhost:8080/"
        },
        "id": "4lyx_Wg0hL-T",
        "outputId": "35b1c32e-0d20-455f-b7e2-dad301557680"
      },
      "execution_count": null,
      "outputs": [
        {
          "output_type": "stream",
          "name": "stdout",
          "text": [
            "No of records deleted :  8\n"
          ]
        }
      ]
    },
    {
      "cell_type": "code",
      "source": [
        "from sqlalchemy.exc import SQLAlchemyError\n",
        "my_data=(\"Five\",)\n",
        "q=\"DELETE FROM student WHERE class=?\"\n",
        "try:\n",
        "  r_set=my_conn.execute(q,my_data)\n",
        "except SQLAlchemyError as e:\n",
        "  error=str(e.__dict__['orig'])\n",
        "  print(error)\n",
        "else:\n",
        "  print(\"No of records deleted : \",r_set.rowcount)"
      ],
      "metadata": {
        "colab": {
          "base_uri": "https://localhost:8080/"
        },
        "id": "_x9Dgh2rhOsA",
        "outputId": "30e41ff1-0a04-4974-84de-355d77640318"
      },
      "execution_count": null,
      "outputs": [
        {
          "output_type": "stream",
          "name": "stdout",
          "text": [
            "No of records deleted :  2\n"
          ]
        }
      ]
    },
    {
      "cell_type": "code",
      "source": [
        "from sqlalchemy.exc import SQLAlchemyError\n",
        "my_data=(\"Five\",)\n",
        "q=\"DELETE FROM student WHERE class=?\"\n",
        "try:\n",
        "  r_set=my_conn.execute(q,my_data)\n",
        "except SQLAlchemyError as e:\n",
        "  error=str(e.__dict__['orig'])\n",
        "  print(error)\n",
        "else:\n",
        "  print(\"No of records deleted : \",r_set.rowcount)"
      ],
      "metadata": {
        "colab": {
          "base_uri": "https://localhost:8080/"
        },
        "id": "Bm_M9pPMhU0C",
        "outputId": "b72a6e3d-a2e5-4083-8ffa-8d1f8507b001"
      },
      "execution_count": null,
      "outputs": [
        {
          "output_type": "stream",
          "name": "stdout",
          "text": [
            "No of records deleted :  0\n"
          ]
        }
      ]
    },
    {
      "cell_type": "code",
      "source": [
        "from sqlalchemy.exc import SQLAlchemyError\n",
        "my_data=(\"Six\",\"Seven\")\n",
        "q=\"DELETE FROM student WHERE class=? OR class=? \"\n",
        "try:\n",
        "  r_set=my_conn.execute(q,my_data)\n",
        "except SQLAlchemyError as e:\n",
        "  error=str(e.__dict__['orig'])\n",
        "  print(error)\n",
        "else:\n",
        "  print(\"No of records deleted : \",r_set.rowcount)"
      ],
      "metadata": {
        "colab": {
          "base_uri": "https://localhost:8080/"
        },
        "id": "PmKSsG-MhWXZ",
        "outputId": "41c19910-b816-4b2d-d3f7-ae710bfbe7aa"
      },
      "execution_count": null,
      "outputs": [
        {
          "output_type": "stream",
          "name": "stdout",
          "text": [
            "No of records deleted :  9\n"
          ]
        }
      ]
    },
    {
      "cell_type": "code",
      "source": [
        "from sqlalchemy.exc import SQLAlchemyError\n",
        "q=\"DELETE FROM student\"\n",
        "try:\n",
        "  r_set=my_conn.execute(q)\n",
        "except SQLAlchemyError as e:\n",
        "  error=str(e.__dict__['orig'])\n",
        "  print(error)\n",
        "else:\n",
        "  print(\"No of records deleted : \",r_set.rowcount)"
      ],
      "metadata": {
        "id": "z3-U8Sn_hcBY",
        "outputId": "348d488c-5ef7-4c32-f193-76a0cbc74dc5",
        "colab": {
          "base_uri": "https://localhost:8080/"
        }
      },
      "execution_count": null,
      "outputs": [
        {
          "output_type": "stream",
          "name": "stdout",
          "text": [
            "No of records deleted :  0\n"
          ]
        }
      ]
    }
  ]
}